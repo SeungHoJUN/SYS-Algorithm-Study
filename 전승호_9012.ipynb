{
  "nbformat": 4,
  "nbformat_minor": 0,
  "metadata": {
    "colab": {
      "name": "전승호 9012",
      "provenance": [],
      "authorship_tag": "ABX9TyNCa0MO+qA4VVukGGd/EvN0",
      "include_colab_link": true
    },
    "kernelspec": {
      "name": "python3",
      "display_name": "Python 3"
    },
    "language_info": {
      "name": "python"
    }
  },
  "cells": [
    {
      "cell_type": "markdown",
      "metadata": {
        "id": "view-in-github",
        "colab_type": "text"
      },
      "source": [
        "<a href=\"https://colab.research.google.com/github/SeungHoJUN/SYS-Algorithm-Study/blob/main/%EC%A0%84%EC%8A%B9%ED%98%B8_9012.ipynb\" target=\"_parent\"><img src=\"https://colab.research.google.com/assets/colab-badge.svg\" alt=\"Open In Colab\"/></a>"
      ]
    },
    {
      "cell_type": "code",
      "execution_count": null,
      "metadata": {
        "id": "GqfpseqzbkOc"
      },
      "outputs": [],
      "source": [
        "t = int(input())\n",
        "for _ in range(t):\n",
        "    cnt = 0 #변수들은 할때 마다 리셋한다.\n",
        "    ip = True\n",
        "    \n",
        "    st = input()\n",
        "\n",
        "    for v in st:\n",
        "        if v == '(' : #각 괄호들이 있는지 확인한다.\n",
        "            cnt += 1 #카운트를 추가한다.\n",
        "        else :\n",
        "            if cnt > 0: #만약 괄호가 먼저 들어가면\n",
        "                cnt -= 1 #닫는 괄호를 빼준다.\n",
        "            else:\n",
        "                ip = False #이것이 맞는지, 틀린지 표시한다.\n",
        "                break\n",
        "    \n",
        "    if cnt > 0: #여는 괄호만 있을 때도!\n",
        "        ip = False\n",
        "    if ip == True:\n",
        "        print('YES')\n",
        "    else:\n",
        "        print('NO')"
      ]
    }
  ]
}