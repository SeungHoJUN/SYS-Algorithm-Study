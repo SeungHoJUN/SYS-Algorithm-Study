{
  "nbformat": 4,
  "nbformat_minor": 0,
  "metadata": {
    "colab": {
      "name": "승호 1138",
      "provenance": []
    },
    "kernelspec": {
      "name": "python3",
      "display_name": "Python 3"
    },
    "language_info": {
      "name": "python"
    }
  },
  "cells": [
    {
      "cell_type": "code",
      "execution_count": 1,
      "metadata": {
        "colab": {
          "base_uri": "https://localhost:8080/",
          "height": 90
        },
        "id": "k5GChPGd-nRd",
        "outputId": "4fea13c4-80cb-4c2d-ecd0-9efaf57eb9c0"
      },
      "outputs": [
        {
          "output_type": "execute_result",
          "data": {
            "text/plain": [
              "'\\n왼쪽에 몇명 있었는지가 포인트! 그러므로 첫번째 주어진 숫자부터 - 주어진 숫자만큼 왼쪽 \\n자리를 남기면 된다.\\n\\n1. 위치를 기록할 리스트를 생성한다. ([0]*n)\\n2. 차례대로, 주어진 숫자만큼 앞에 0을 남기고 배치한다.\\n3. 2를 반복한다.\\n4. 앞에 0을 남길 수 없을 경우에는, 뒤에 배치한다.\\n5. 혹시 숫자가 다 같은 경우에는 순서대로 배치한다.\\n'"
            ],
            "application/vnd.google.colaboratory.intrinsic+json": {
              "type": "string"
            }
          },
          "metadata": {},
          "execution_count": 1
        }
      ],
      "source": [
        "\"\"\"\n",
        "왼쪽에 몇명 있었는지가 포인트! 그러므로 첫번째 주어진 숫자부터 - 주어진 숫자만큼 왼쪽 \n",
        "자리를 남기면 된다.\n",
        "\n",
        "1. 위치를 기록할 리스트를 생성한다. ([0]*n)\n",
        "2. 차례대로, 주어진 숫자만큼 앞에 0을 남기고 배치한다.\n",
        "3. 숫자가 같은 경우에는 - \n",
        "4. 앞에 0을 남길 수 없을 경우에는, 뒤에 배치한다.\n",
        "5. 혹시 숫자가 다 같은 경우에는 순서대로 배치한다.\n",
        "\"\"\""
      ]
    },
    {
      "cell_type": "code",
      "source": [
        "n = int(input())\n",
        "p = list(map(int, input().split()))"
      ],
      "metadata": {
        "colab": {
          "base_uri": "https://localhost:8080/"
        },
        "id": "VgiCBRZWAze2",
        "outputId": "584e36bf-4598-4950-ed47-d0db4efe230c"
      },
      "execution_count": 5,
      "outputs": [
        {
          "name": "stdout",
          "output_type": "stream",
          "text": [
            "4\n",
            "2 1 1 0\n"
          ]
        }
      ]
    },
    {
      "cell_type": "code",
      "source": [
        "answer = [0]*n\n",
        "\n",
        "for v in range(1, n+1):\n",
        "    t = p[v-1]\n",
        "    cnt = 0\n",
        "    for i in range(n):\n",
        "        if cnt == t and answer[i] == 0:\n",
        "            answer[i] = v\n",
        "            break\n",
        "        elif answer[i] == 0:\n",
        "            cnt += 1\n",
        "print(*answer)"
      ],
      "metadata": {
        "colab": {
          "base_uri": "https://localhost:8080/"
        },
        "id": "GK2lIT3aEXWu",
        "outputId": "6b6dbcab-dec9-443f-b4d2-20cd78ed4458"
      },
      "execution_count": 8,
      "outputs": [
        {
          "output_type": "stream",
          "name": "stdout",
          "text": [
            "[4, 2, 1, 3]\n"
          ]
        }
      ]
    }
  ]
}