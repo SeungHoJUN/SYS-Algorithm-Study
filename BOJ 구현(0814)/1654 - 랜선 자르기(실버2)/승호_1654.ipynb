{
  "nbformat": 4,
  "nbformat_minor": 0,
  "metadata": {
    "colab": {
      "name": "승호 1654",
      "provenance": []
    },
    "kernelspec": {
      "name": "python3",
      "display_name": "Python 3"
    },
    "language_info": {
      "name": "python"
    }
  },
  "cells": [
    {
      "cell_type": "code",
      "source": [
        "k, n = map(int, input().split())\n",
        "li = []\n",
        "\n",
        "for i in range(k):\n",
        "    li.append(int(input()))\n",
        "\n",
        "start = 1\n",
        "end = max(li)\n",
        "\n",
        "while (start <= end):\n",
        "    mid = (start + end) // 2\n",
        "    cnt = 0\n",
        "    for i in range(k):\n",
        "        cnt += li[i] // mid\n",
        "    if cnt >= n:\n",
        "        start = mid + 1\n",
        "    else:\n",
        "        end = mid - 1\n",
        "print(end)"
      ],
      "metadata": {
        "colab": {
          "base_uri": "https://localhost:8080/"
        },
        "id": "jwaMeQsHG4q5",
        "outputId": "0d7b3b3b-098c-4f89-c18f-497d12e07ccc"
      },
      "execution_count": 4,
      "outputs": [
        {
          "output_type": "stream",
          "name": "stdout",
          "text": [
            "4 11\n",
            "802\n",
            "743\n",
            "457\n",
            "539\n",
            "200\n"
          ]
        }
      ]
    }
  ]
}